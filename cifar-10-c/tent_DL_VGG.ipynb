{
 "cells": [
  {
   "cell_type": "code",
   "execution_count": 1,
   "metadata": {},
   "outputs": [],
   "source": [
    "import torch\n",
    "import torch.nn as nn\n",
    "from torchvision import transforms, datasets, models\n",
    "\n",
    "import numpy as np\n",
    "import matplotlib.pyplot as plt\n",
    "import os\n",
    "\n",
    "from networks import VGG16\n",
    "import tent"
   ]
  },
  {
   "cell_type": "code",
   "execution_count": 2,
   "metadata": {},
   "outputs": [
    {
     "name": "stdout",
     "output_type": "stream",
     "text": [
      "True\n",
      "0\n",
      "1\n",
      "NVIDIA GeForce GTX 1070\n"
     ]
    }
   ],
   "source": [
    "print(torch.cuda.is_available())\n",
    "print(torch.cuda.current_device())\n",
    "print(torch.cuda.device_count())\n",
    "print(torch.cuda.get_device_name(0))\n",
    "device = torch.device('cuda:0' if torch.cuda.is_available() else 'cpu')"
   ]
  },
  {
   "cell_type": "code",
   "execution_count": 3,
   "metadata": {},
   "outputs": [
    {
     "name": "stdout",
     "output_type": "stream",
     "text": [
      "Files already downloaded and verified\n",
      "Files already downloaded and verified\n",
      "(50000, 32, 32, 3)\n"
     ]
    }
   ],
   "source": [
    "batch_size = 128\n",
    "mean = (0.4914, 0.4822, 0.4465)\n",
    "std = (0.2023, 0.1994, 0.2010)\n",
    "\n",
    "transform_train = transforms.Compose([transforms.RandomHorizontalFlip(),\n",
    "                                    transforms.RandomCrop(32, padding=4),\n",
    "                                    transforms.ToTensor(),\n",
    "                                    transforms.Normalize(mean, std)\n",
    "                                    ])\n",
    "transform_test = transforms.Compose([transforms.ToTensor(),\n",
    "                                    transforms.Normalize(mean, std)])\n",
    "\n",
    "trainset = datasets.CIFAR10(root='./data', train=True, download=True, transform=transform_train)\n",
    "valset = datasets.CIFAR10(root='./data', train=False, download=True, transform=transform_test)\n",
    "\n",
    "trainloader = torch.utils.data.DataLoader(trainset, batch_size=batch_size, shuffle=True, num_workers=4)\n",
    "valloader = torch.utils.data.DataLoader(valset, batch_size=batch_size, shuffle=False, num_workers=4)\n",
    "\n",
    "print(trainset.train_data.shape)"
   ]
  },
  {
   "cell_type": "markdown",
   "metadata": {},
   "source": [
    "## Network"
   ]
  },
  {
   "cell_type": "code",
   "execution_count": 4,
   "metadata": {},
   "outputs": [
    {
     "name": "stdout",
     "output_type": "stream",
     "text": [
      "14.775446 M parameters\n"
     ]
    },
    {
     "data": {
      "text/plain": [
       "tensor([[ 1.1548, -0.5619, -0.1738,  0.6957, -0.1544, -0.4640, -1.0512,  0.4781,\n",
       "         -0.3107,  0.1203],\n",
       "        [ 0.0109, -0.0459, -0.1318,  0.7003, -0.1380, -0.0315, -0.4133, -0.0752,\n",
       "          0.1881, -0.0451]], grad_fn=<AddmmBackward0>)"
      ]
     },
     "execution_count": 4,
     "metadata": {},
     "output_type": "execute_result"
    }
   ],
   "source": [
    "model = VGG16()\n",
    "\n",
    "print(sum(p.numel() for p in model.parameters())/1000000, \"M parameters\")\n",
    "x = torch.randn(2,3,32,32)\n",
    "model(x)"
   ]
  },
  {
   "cell_type": "markdown",
   "metadata": {},
   "source": [
    "## Training"
   ]
  },
  {
   "cell_type": "code",
   "execution_count": 5,
   "metadata": {},
   "outputs": [],
   "source": [
    "criterion = nn.CrossEntropyLoss() # CE Loss, Takes care of applying softmax\n",
    "optimizer = torch.optim.Adam(model.parameters(), lr=1e-3) # Adam optimizer\n",
    "# optimizer = torch.optim.SGD(model.parameters(),lr=0.1)\n",
    "model = model.to(device)"
   ]
  },
  {
   "cell_type": "code",
   "execution_count": 6,
   "metadata": {},
   "outputs": [
    {
     "name": "stdout",
     "output_type": "stream",
     "text": [
      "Epoch:0 | Train loss: 1.8204 | Test loss: 1.6558 | Train acc.: 0.2832 | Test acc.: 0.3710\n",
      "\n",
      "Epoch:1 | Train loss: 1.5269 | Test loss: 1.5052 | Train acc.: 0.3988 | Test acc.: 0.4357\n",
      "\n",
      "Epoch:2 | Train loss: 1.3459 | Test loss: 1.3613 | Train acc.: 0.4910 | Test acc.: 0.5312\n",
      "\n",
      "Epoch:3 | Train loss: 1.1869 | Test loss: 1.0034 | Train acc.: 0.5706 | Test acc.: 0.6404\n",
      "\n",
      "Epoch:4 | Train loss: 1.0531 | Test loss: 0.8710 | Train acc.: 0.6315 | Test acc.: 0.7016\n",
      "\n",
      "Epoch:5 | Train loss: 0.9303 | Test loss: 0.9634 | Train acc.: 0.6842 | Test acc.: 0.6780\n",
      "\n",
      "Epoch:6 | Train loss: 0.8464 | Test loss: 0.6823 | Train acc.: 0.7199 | Test acc.: 0.7687\n",
      "\n",
      "Epoch:7 | Train loss: 0.7620 | Test loss: 0.6659 | Train acc.: 0.7511 | Test acc.: 0.7814\n",
      "\n",
      "Epoch:8 | Train loss: 0.7076 | Test loss: 0.6465 | Train acc.: 0.7727 | Test acc.: 0.7919\n",
      "\n",
      "Epoch:9 | Train loss: 0.6521 | Test loss: 0.6335 | Train acc.: 0.7947 | Test acc.: 0.8015\n",
      "\n",
      "Epoch:10 | Train loss: 0.6090 | Test loss: 0.5677 | Train acc.: 0.8115 | Test acc.: 0.8202\n",
      "\n",
      "Epoch:11 | Train loss: 0.5794 | Test loss: 0.5190 | Train acc.: 0.8210 | Test acc.: 0.8370\n",
      "\n",
      "Epoch:12 | Train loss: 0.5249 | Test loss: 0.5444 | Train acc.: 0.8400 | Test acc.: 0.8328\n",
      "\n",
      "Epoch:13 | Train loss: 0.4885 | Test loss: 0.5020 | Train acc.: 0.8502 | Test acc.: 0.8448\n",
      "\n",
      "Epoch:14 | Train loss: 0.4691 | Test loss: 0.5254 | Train acc.: 0.8577 | Test acc.: 0.8329\n",
      "\n",
      "Epoch:15 | Train loss: 0.4366 | Test loss: 0.5303 | Train acc.: 0.8663 | Test acc.: 0.8393\n",
      "\n",
      "Epoch:16 | Train loss: 0.4227 | Test loss: 0.4568 | Train acc.: 0.8707 | Test acc.: 0.8562\n",
      "\n",
      "Epoch:17 | Train loss: 0.3958 | Test loss: 0.4946 | Train acc.: 0.8804 | Test acc.: 0.8504\n",
      "\n",
      "Epoch:18 | Train loss: 0.3774 | Test loss: 0.4873 | Train acc.: 0.8854 | Test acc.: 0.8606\n",
      "\n",
      "Epoch:19 | Train loss: 0.3603 | Test loss: 0.4235 | Train acc.: 0.8910 | Test acc.: 0.8710\n",
      "\n",
      "Epoch:20 | Train loss: 0.3476 | Test loss: 0.4640 | Train acc.: 0.8949 | Test acc.: 0.8648\n",
      "\n",
      "Epoch:21 | Train loss: 0.3263 | Test loss: 0.4144 | Train acc.: 0.8995 | Test acc.: 0.8732\n",
      "\n",
      "Epoch:22 | Train loss: 0.3114 | Test loss: 0.4741 | Train acc.: 0.9052 | Test acc.: 0.8727\n",
      "\n",
      "Epoch:23 | Train loss: 0.3009 | Test loss: 0.3906 | Train acc.: 0.9075 | Test acc.: 0.8833\n",
      "\n",
      "Epoch:24 | Train loss: 0.2786 | Test loss: 0.4848 | Train acc.: 0.9164 | Test acc.: 0.8682\n",
      "\n"
     ]
    }
   ],
   "source": [
    "train_loss_list = []\n",
    "test_loss_list = []\n",
    "best_acc = 0\n",
    "\n",
    "for epoch in range(25):  # num epochs\n",
    "    \n",
    "    # Training\n",
    "    model.train() # Set to train mode\n",
    "    running_loss = 0.0\n",
    "    running_corrects = 0\n",
    "\n",
    "    for i, data in enumerate(trainloader): # Get data batch-wise\n",
    "        inputs, labels = data\n",
    "        inputs, labels = inputs.to(device), labels.to(device)\n",
    "        # print(inputs.shape, inputs.dtype)\n",
    "        # labels = labels.type(torch.LongTensor)\n",
    "\n",
    "        # zero out gradients\n",
    "        optimizer.zero_grad()\n",
    "\n",
    "        outputs = model(inputs) # forward pass\n",
    "        # print(outputs.shape, labels.shape)\n",
    "        loss = criterion(outputs, labels) # Get loss\n",
    "        loss.backward() # Backward pass\n",
    "        optimizer.step() # Optimize model weights\n",
    "\n",
    "        _, preds = torch.max(outputs, 1) # Get predictions\n",
    "        running_loss += loss.detach() * inputs.size(0)\n",
    "        running_corrects += torch.sum(preds == labels.data)\n",
    "\n",
    "    # Get loss and accuracy\n",
    "    train_loss = (running_loss / len(trainset))\n",
    "    train_loss_list.append(train_loss.item())\n",
    "    train_accuracy = (running_corrects.float() / len(trainset))\n",
    "\n",
    "    # Testing\n",
    "    model.eval() # Set to eval mode\n",
    "    running_loss = 0.0\n",
    "    running_corrects = 0\n",
    "    y = []; yhat = []\n",
    "\n",
    "    for i, data in enumerate(valloader):\n",
    "        inputs, labels = data\n",
    "        inputs, labels = inputs.to(device), labels.to(device)\n",
    "        # labels = labels.type(torch.LongTensor)\n",
    "\n",
    "        # forward + backward + optimize\n",
    "        with torch.no_grad(): # Don't build computation graph for testing\n",
    "            outputs = model(inputs)\n",
    "        # print(outputs.shape, labels.shape)\n",
    "        loss = criterion(outputs, labels)\n",
    "\n",
    "        _, preds = torch.max(outputs, 1)\n",
    "        y.append(labels.tolist())\n",
    "        yhat.append(preds.tolist())\n",
    "        running_loss += loss.detach() * inputs.size(0)\n",
    "        running_corrects += torch.sum(preds == labels.data)\n",
    "    \n",
    "    # Get loss and accuracy\n",
    "    test_loss = (running_loss / len(valset))\n",
    "    test_loss_list.append(test_loss.item())\n",
    "    test_accuracy = (running_corrects.float() / len(valset))\n",
    "\n",
    "    acc = test_accuracy.item()\n",
    "    if(acc > best_acc):\n",
    "        best_acc = acc\n",
    "        torch.save(model.state_dict(),\"checkpoint/vgg16_bn.pth\")\n",
    "\n",
    "    # Display loss, accuracy values after each epoch\n",
    "    print(\"Epoch:{} | Train loss: {:.4f} | Test loss: {:.4f} | Train acc.: {:.4f} | Test acc.: {:.4f}\\n\"\n",
    "              .format(epoch, train_loss.item(),test_loss.item(),train_accuracy.item(),test_accuracy.item()))\n"
   ]
  },
  {
   "cell_type": "markdown",
   "metadata": {},
   "source": [
    "## Inference"
   ]
  },
  {
   "cell_type": "code",
   "execution_count": 9,
   "metadata": {},
   "outputs": [
    {
     "data": {
      "text/plain": [
       "<All keys matched successfully>"
      ]
     },
     "execution_count": 9,
     "metadata": {},
     "output_type": "execute_result"
    }
   ],
   "source": [
    "model = VGG16().to(device)\n",
    "model.load_state_dict(torch.load(\"checkpoint/vgg16_bn.pth\"))"
   ]
  },
  {
   "cell_type": "markdown",
   "metadata": {},
   "source": [
    "### CIFAR10"
   ]
  },
  {
   "cell_type": "code",
   "execution_count": 10,
   "metadata": {},
   "outputs": [
    {
     "name": "stdout",
     "output_type": "stream",
     "text": [
      "Test loss: 0.3906 | Test acc.: 0.8833\n",
      "\n"
     ]
    }
   ],
   "source": [
    "# Testing\n",
    "model.eval() # Set to eval mode\n",
    "running_loss = 0.0\n",
    "running_corrects = 0\n",
    "y = []; yhat = []\n",
    "\n",
    "for i, data in enumerate(valloader):\n",
    "    inputs, labels = data\n",
    "    inputs, labels = inputs.to(device), labels.to(device)\n",
    "    # labels = labels.type(torch.LongTensor)\n",
    "\n",
    "    # forward + backward + optimize\n",
    "    with torch.no_grad(): # Don't build computation graph for testing\n",
    "        outputs = model(inputs)\n",
    "    # print(outputs.shape, labels.shape)\n",
    "    loss = criterion(outputs, labels)\n",
    "\n",
    "    _, preds = torch.max(outputs, 1)\n",
    "    y.append(labels.tolist())\n",
    "    yhat.append(preds.tolist())\n",
    "    running_loss += loss.detach() * inputs.size(0)\n",
    "    running_corrects += torch.sum(preds == labels.data)\n",
    "\n",
    "# Get loss and accuracy\n",
    "test_loss = (running_loss / len(valset))\n",
    "test_loss_list.append(test_loss.item())\n",
    "test_accuracy = (running_corrects.float() / len(valset))\n",
    "\n",
    "# Display loss, accuracy values after each epoch\n",
    "print(\"Test loss: {:.4f} | Test acc.: {:.4f}\\n\"\n",
    "            .format(test_loss.item(),test_accuracy.item()))"
   ]
  },
  {
   "cell_type": "code",
   "execution_count": 11,
   "metadata": {},
   "outputs": [],
   "source": [
    "# TENT\n",
    "\n",
    "model = tent.configure_model(model)\n",
    "params, param_names = tent.collect_params(model)\n",
    "optimizer = torch.optim.Adam(params, lr=1e-3)\n",
    "tented_model = tent.Tent(model, optimizer)\n",
    "\n",
    "tented_model = tented_model.to(device)"
   ]
  },
  {
   "cell_type": "code",
   "execution_count": 12,
   "metadata": {},
   "outputs": [
    {
     "name": "stdout",
     "output_type": "stream",
     "text": [
      "Test loss: 0.4565 | Test acc.: 0.8721\n",
      "\n"
     ]
    }
   ],
   "source": [
    "\n",
    "# Testing\n",
    "tented_model.eval() # Set to eval mode\n",
    "running_loss = 0.0\n",
    "running_corrects = 0\n",
    "y = []; yhat = []\n",
    "\n",
    "for i, data in enumerate(valloader):\n",
    "    inputs, labels = data\n",
    "    inputs, labels = inputs.to(device), labels.to(device)\n",
    "    # labels = labels.type(torch.LongTensor)\n",
    "\n",
    "    # forward + backward + optimize\n",
    "    with torch.no_grad(): # Don't build computation graph for testing\n",
    "        outputs = tented_model(inputs)\n",
    "    # print(outputs.shape, labels.shape)\n",
    "    loss = criterion(outputs, labels)\n",
    "\n",
    "    _, preds = torch.max(outputs, 1)\n",
    "    y.append(labels.tolist())\n",
    "    yhat.append(preds.tolist())\n",
    "    running_loss += loss.detach() * inputs.size(0)\n",
    "    running_corrects += torch.sum(preds == labels.data)\n",
    "\n",
    "# Get loss and accuracy\n",
    "test_loss = (running_loss / len(valset))\n",
    "test_loss_list.append(test_loss.item())\n",
    "test_accuracy = (running_corrects.float() / len(valset))\n",
    "\n",
    "# Display loss, accuracy values after each epoch\n",
    "print(\"Test loss: {:.4f} | Test acc.: {:.4f}\\n\"\n",
    "            .format(test_loss.item(),test_accuracy.item()))\n"
   ]
  },
  {
   "cell_type": "markdown",
   "metadata": {},
   "source": [
    "### CIFAR10-C"
   ]
  },
  {
   "cell_type": "code",
   "execution_count": 14,
   "metadata": {},
   "outputs": [
    {
     "name": "stdout",
     "output_type": "stream",
     "text": [
      "Average: 0.8624   brightness.npy\n",
      "Average: 0.5894   contrast.npy\n",
      "Average: 0.7181   defocus_blur.npy\n",
      "Average: 0.7433   elastic_transform.npy\n",
      "Average: 0.7428   fog.npy\n",
      "Average: 0.6635   frost.npy\n",
      "Average: 0.6365   gaussian_blur.npy\n",
      "Average: 0.4881   gaussian_noise.npy\n",
      "Average: 0.4285   glass_blur.npy\n",
      "Average: 0.5507   impulse_noise.npy\n",
      "Average: 0.7652   jpeg_compression.npy\n",
      "Average: 0.6363   motion_blur.npy\n",
      "Average: 0.7145   pixelate.npy\n",
      "Average: 0.8387   saturate.npy\n",
      "Average: 0.5898   shot_noise.npy\n",
      "Average: 0.7123   snow.npy\n",
      "Average: 0.7688   spatter.npy\n",
      "Average: 0.6133   speckle_noise.npy\n",
      "Average: 0.6532   zoom_blur.npy\n",
      "Mean:  0.6692326153579511\n"
     ]
    }
   ],
   "source": [
    "model = VGG16().to(device)\n",
    "model.load_state_dict(torch.load(\"checkpoint/vgg16_bn.pth\"))\n",
    "\n",
    "chalPath = 'data/CIFAR-10-C/'\n",
    "chals = sorted(os.listdir(chalPath))\n",
    "\n",
    "chal_labels = valset.test_labels\n",
    "chal_labels = torch.Tensor(chal_labels)\n",
    "chal_labels = chal_labels.long()\n",
    "\n",
    "def preprocess_test(X):\n",
    "\n",
    "    N, H, W, C = X.shape\n",
    "    Y = torch.zeros(N, C, H, W)\n",
    "    mean = (0.4914, 0.4822, 0.4465)\n",
    "    std = (0.2023, 0.1994, 0.2010)  \n",
    "    transform_test = transforms.Compose([\n",
    "        transforms.ToTensor(),\n",
    "        transforms.Normalize(mean,std),\n",
    "    ])\n",
    "\n",
    "    for n in range(len(X)):\n",
    "        Y[n] =  transform_test(X[n])\n",
    "\n",
    "    return Y\n",
    "\n",
    "model.eval()\n",
    "avg_list = []\n",
    "\n",
    "for challenge in range(len(chals)):\n",
    "    chal_data = np.load(chalPath + chals[challenge])\n",
    "    # chal_data = np.transpose(chal_data, (0,3,1,2))\n",
    "\n",
    "    avg = 0\n",
    "    for j in range(5):\n",
    "        chal_temp_data = chal_data[j * 10000:(j + 1) * 10000]\n",
    "        chal_temp_data = preprocess_test(chal_temp_data)\n",
    "\n",
    "        chal_dataset = torch.utils.data.TensorDataset(chal_temp_data, chal_labels)\n",
    "        chal_loader = torch.utils.data.DataLoader(chal_dataset, batch_size=128)\n",
    "        chal_error = 0\n",
    "\n",
    "        running_loss = 0.0\n",
    "        running_corrects = 0\n",
    "\n",
    "        correct = 0\n",
    "        with torch.no_grad():\n",
    "            for x, y in chal_loader:\n",
    "                # cost, err, probs = net.sample_eval(x, y, Nsamples=10, logits=False)\n",
    "                # preds_list.append(probs.cpu().numpy())\n",
    "                # chal_error += err.cpu().numpy()\n",
    "                x = x.to(device)\n",
    "                y = y.to(device)\n",
    "\n",
    "                outputs = model(x)\n",
    "                correct += torch.sum(torch.argmax(outputs,1) == y)\n",
    "            # print(err)\n",
    "\n",
    "        # print(chal_error)\n",
    "        chal_acc = (correct/len(chal_dataset)).item()\n",
    "        avg += chal_acc\n",
    "        # print(round(chal_acc,4))\n",
    "    \n",
    "    avg /= 5\n",
    "    avg_list.append(avg)\n",
    "    print(\"Average:\", round(avg,4),\" \", chals[challenge])\n",
    "\n",
    "print(\"Mean: \", np.mean(avg_list))\n",
    "list1 = avg_list"
   ]
  },
  {
   "cell_type": "code",
   "execution_count": 15,
   "metadata": {},
   "outputs": [],
   "source": [
    "np.save(\"vgg_base.npy\",avg_list)"
   ]
  },
  {
   "cell_type": "code",
   "execution_count": 16,
   "metadata": {},
   "outputs": [
    {
     "name": "stdout",
     "output_type": "stream",
     "text": [
      "Average: 0.8673   brightness.npy\n",
      "Average: 0.8253   contrast.npy\n",
      "Average: 0.8466   defocus_blur.npy\n",
      "Average: 0.7994   elastic_transform.npy\n",
      "Average: 0.8373   fog.npy\n",
      "Average: 0.7853   frost.npy\n",
      "Average: 0.8352   gaussian_blur.npy\n",
      "Average: 0.7477   gaussian_noise.npy\n",
      "Average: 0.6253   glass_blur.npy\n",
      "Average: 0.7055   impulse_noise.npy\n",
      "Average: 0.7775   jpeg_compression.npy\n",
      "Average: 0.8077   motion_blur.npy\n",
      "Average: 0.8045   pixelate.npy\n",
      "Average: 0.8531   saturate.npy\n",
      "Average: 0.7747   shot_noise.npy\n",
      "Average: 0.7687   snow.npy\n",
      "Average: 0.7929   spatter.npy\n",
      "Average: 0.7678   speckle_noise.npy\n",
      "Average: 0.8294   zoom_blur.npy\n",
      "Mean:  0.7921652429982234\n"
     ]
    }
   ],
   "source": [
    "# Tented\n",
    "\n",
    "chalPath = 'data/CIFAR-10-C/'\n",
    "chals = sorted(os.listdir(chalPath))\n",
    "\n",
    "chal_labels = valset.test_labels\n",
    "chal_labels = torch.Tensor(chal_labels)\n",
    "chal_labels = chal_labels.long()\n",
    "\n",
    "def preprocess_test(X):\n",
    "\n",
    "    N, H, W, C = X.shape\n",
    "    Y = torch.zeros(N, C, H, W)\n",
    "    mean = (0.4914, 0.4822, 0.4465)\n",
    "    std = (0.2023, 0.1994, 0.2010)  \n",
    "    transform_test = transforms.Compose([\n",
    "        transforms.ToTensor(),\n",
    "        transforms.Normalize(mean,std),\n",
    "    ])\n",
    "\n",
    "    for n in range(len(X)):\n",
    "        Y[n] =  transform_test(X[n])\n",
    "\n",
    "    return Y\n",
    "\n",
    "avg_list = []\n",
    "\n",
    "for challenge in range(len(chals)):\n",
    "    chal_data = np.load(chalPath + chals[challenge])\n",
    "    # chal_data = np.transpose(chal_data, (0,3,1,2))\n",
    "\n",
    "    avg = 0\n",
    "    for j in range(5):\n",
    "\n",
    "        # Load tented model\n",
    "        model = VGG16()\n",
    "        model.load_state_dict(torch.load(\"checkpoint/vgg16_bn.pth\"))\n",
    "        \n",
    "        net = tent.configure_model(model)\n",
    "        params, param_names = tent.collect_params(net)\n",
    "        optimizer = torch.optim.Adam(params, lr=1e-3)\n",
    "        tented_model = tent.Tent(net, optimizer)\n",
    "\n",
    "        tented_model = tented_model.to(device)\n",
    "\n",
    "        \n",
    "        chal_temp_data = chal_data[j * 10000:(j + 1) * 10000]\n",
    "        chal_temp_data = preprocess_test(chal_temp_data)\n",
    "\n",
    "        chal_dataset = torch.utils.data.TensorDataset(chal_temp_data, chal_labels)\n",
    "        chal_loader = torch.utils.data.DataLoader(chal_dataset, batch_size=128)\n",
    "        chal_error = 0\n",
    "\n",
    "        running_loss = 0.0\n",
    "        running_corrects = 0\n",
    "\n",
    "        tented_model.eval()\n",
    "        \n",
    "        correct = 0\n",
    "        with torch.no_grad():\n",
    "            for x, y in chal_loader:\n",
    "                # cost, err, probs = net.sample_eval(x, y, Nsamples=10, logits=False)\n",
    "                # preds_list.append(probs.cpu().numpy())\n",
    "                # chal_error += err.cpu().numpy()\n",
    "                x = x.to(device)\n",
    "                y = y.to(device)\n",
    "\n",
    "                outputs = tented_model(x)\n",
    "                correct += torch.sum(torch.argmax(outputs,1) == y)\n",
    "            # print(err)\n",
    "\n",
    "        # print(chal_error)\n",
    "        chal_acc = (correct/len(chal_dataset)).item()\n",
    "        avg += chal_acc\n",
    "        # print(round(chal_acc,4))\n",
    "    \n",
    "    avg /= 5\n",
    "    avg_list.append(avg)\n",
    "    print(\"Average:\", round(avg,4),\" \", chals[challenge])\n",
    "\n",
    "print(\"Mean: \", np.mean(avg_list))\n",
    "list2 = avg_list"
   ]
  },
  {
   "cell_type": "code",
   "execution_count": 17,
   "metadata": {},
   "outputs": [],
   "source": [
    "np.save(\"vgg_tent.npy\",avg_list)"
   ]
  },
  {
   "cell_type": "code",
   "execution_count": 18,
   "metadata": {},
   "outputs": [],
   "source": [
    "# list1 = np.load(\"vgg_base.npy\")\n",
    "# list2 = np.load(\"vgg_tent.npy\")"
   ]
  },
  {
   "cell_type": "code",
   "execution_count": 20,
   "metadata": {},
   "outputs": [
    {
     "data": {
      "image/png": "[encoded data removed]",
      "text/plain": [
       "<Figure size 864x432 with 1 Axes>"
      ]
     },
     "metadata": {
      "needs_background": "light"
     },
     "output_type": "display_data"
    }
   ],
   "source": [
    "types = np.arange(1,20)\n",
    "\n",
    "plt.figure(figsize=(12,6))\n",
    "x_axis = np.arange(len(types))\n",
    "plt.bar(x_axis -0.1, list1, width=0.2, label = 'Base model')\n",
    "plt.bar(x_axis +0.1, list2, width=0.2, label = 'Tented model')\n",
    "\n",
    "plt.xticks(x_axis, types)\n",
    "plt.title(\"Average accuracy per distortion type\")\n",
    "plt.legend(loc = 'upper right', framealpha = 0.1)\n",
    "\n",
    "plt.xlabel(\"Distortion type\")\n",
    "plt.ylabel(\"Average accuracy\")\n",
    "plt.savefig(\"cifar10c_vgg.pdf\",bbox_inches = \"tight\")"
   ]
  },
  {
   "cell_type": "code",
   "execution_count": null,
   "metadata": {},
   "outputs": [],
   "source": []
  },
  {
   "cell_type": "code",
   "execution_count": null,
   "metadata": {},
   "outputs": [],
   "source": []
  }
 ],
 "metadata": {
  "interpreter": {
   "hash": "31b8918c388efabf28e06d7aa829f320b99f50374aee3ccc5c6fe8cd01c3acd4"
  },
  "kernelspec": {
   "display_name": "Python 3.7.11 ('base')",
   "language": "python",
   "name": "python3"
  },
  "language_info": {
   "codemirror_mode": {
    "name": "ipython",
    "version": 3
   },
   "file_extension": ".py",
   "mimetype": "text/x-python",
   "name": "python",
   "nbconvert_exporter": "python",
   "pygments_lexer": "ipython3",
   "version": "3.7.11"
  },
  "orig_nbformat": 4
 },
 "nbformat": 4,
 "nbformat_minor": 2
}
