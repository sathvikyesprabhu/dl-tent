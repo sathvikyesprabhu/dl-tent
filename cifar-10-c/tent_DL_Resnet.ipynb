{
 "cells": [
  {
   "cell_type": "code",
   "execution_count": 1,
   "metadata": {},
   "outputs": [],
   "source": [
    "import torch\n",
    "import torch.nn as nn\n",
    "from torchvision import transforms, datasets, models\n",
    "\n",
    "import numpy as np\n",
    "import matplotlib.pyplot as plt\n",
    "import os\n",
    "\n",
    "from networks import ResNet\n",
    "import tent"
   ]
  },
  {
   "cell_type": "code",
   "execution_count": 2,
   "metadata": {},
   "outputs": [
    {
     "name": "stdout",
     "output_type": "stream",
     "text": [
      "True\n",
      "0\n",
      "1\n",
      "NVIDIA GeForce GTX 1070\n"
     ]
    }
   ],
   "source": [
    "print(torch.cuda.is_available())\n",
    "print(torch.cuda.current_device())\n",
    "print(torch.cuda.device_count())\n",
    "print(torch.cuda.get_device_name(0))\n",
    "device = torch.device('cuda:0' if torch.cuda.is_available() else 'cpu')"
   ]
  },
  {
   "cell_type": "code",
   "execution_count": 3,
   "metadata": {},
   "outputs": [
    {
     "name": "stdout",
     "output_type": "stream",
     "text": [
      "Files already downloaded and verified\n",
      "Files already downloaded and verified\n",
      "(50000, 32, 32, 3)\n"
     ]
    }
   ],
   "source": [
    "batch_size = 128\n",
    "mean = (0.4914, 0.4822, 0.4465)\n",
    "std = (0.2023, 0.1994, 0.2010)\n",
    "\n",
    "transform_train = transforms.Compose([transforms.RandomHorizontalFlip(),\n",
    "                                    transforms.RandomCrop(32, padding=4),\n",
    "                                    transforms.ToTensor(),\n",
    "                                    transforms.Normalize(mean, std)\n",
    "                                    ])\n",
    "transform_test = transforms.Compose([transforms.ToTensor(),\n",
    "                                    transforms.Normalize(mean, std)])\n",
    "\n",
    "trainset = datasets.CIFAR10(root='./data', train=True, download=True, transform=transform_train)\n",
    "valset = datasets.CIFAR10(root='./data', train=False, download=True, transform=transform_test)\n",
    "\n",
    "trainloader = torch.utils.data.DataLoader(trainset, batch_size=batch_size, shuffle=True, num_workers=4)\n",
    "valloader = torch.utils.data.DataLoader(valset, batch_size=batch_size, shuffle=False, num_workers=4)\n",
    "\n",
    "print(trainset.train_data.shape)"
   ]
  },
  {
   "cell_type": "markdown",
   "metadata": {},
   "source": [
    "## Network"
   ]
  },
  {
   "cell_type": "code",
   "execution_count": 4,
   "metadata": {},
   "outputs": [
    {
     "name": "stdout",
     "output_type": "stream",
     "text": [
      "0.175818 M parameters\n"
     ]
    },
    {
     "data": {
      "text/plain": [
       "tensor([[ 0.9563, -0.5725, -0.0706,  0.1222,  0.2747,  0.1813,  0.0520,  0.7712,\n",
       "          0.3720,  0.3805],\n",
       "        [ 1.0430, -0.4286, -0.1176,  0.0610,  0.2832,  0.2366, -0.0171,  0.7024,\n",
       "          0.4616,  0.4219]], grad_fn=<AddmmBackward0>)"
      ]
     },
     "execution_count": 4,
     "metadata": {},
     "output_type": "execute_result"
    }
   ],
   "source": [
    "# model = models.resnet18()\n",
    "# model.fc = nn.Linear(in_features=512, out_features=10, bias=True)\n",
    "\n",
    "model = ResNet(18,10)\n",
    "\n",
    "print(sum(p.numel() for p in model.parameters())/1000000, \"M parameters\")\n",
    "x = torch.randn(2,3,32,32)\n",
    "model(x)"
   ]
  },
  {
   "cell_type": "markdown",
   "metadata": {},
   "source": [
    "## Training"
   ]
  },
  {
   "cell_type": "code",
   "execution_count": 5,
   "metadata": {},
   "outputs": [],
   "source": [
    "criterion = nn.CrossEntropyLoss() # CE Loss, Takes care of applying softmax\n",
    "optimizer = torch.optim.Adam(model.parameters(), lr=1e-3) # Adam optimizer\n",
    "# optimizer = torch.optim.SGD(model.parameters(),lr=0.1)\n",
    "model = model.to(device)"
   ]
  },
  {
   "cell_type": "code",
   "execution_count": 6,
   "metadata": {},
   "outputs": [
    {
     "name": "stdout",
     "output_type": "stream",
     "text": [
      "Epoch:0 | Train loss: 1.4659 | Test loss: 1.4004 | Train acc.: 0.4623 | Test acc.: 0.5047\n",
      "\n",
      "Epoch:1 | Train loss: 1.0459 | Test loss: 1.2310 | Train acc.: 0.6227 | Test acc.: 0.5792\n",
      "\n",
      "Epoch:2 | Train loss: 0.8942 | Test loss: 0.9869 | Train acc.: 0.6829 | Test acc.: 0.6645\n",
      "\n",
      "Epoch:3 | Train loss: 0.7806 | Test loss: 0.8679 | Train acc.: 0.7259 | Test acc.: 0.6926\n",
      "\n",
      "Epoch:4 | Train loss: 0.7075 | Test loss: 0.7833 | Train acc.: 0.7527 | Test acc.: 0.7374\n",
      "\n",
      "Epoch:5 | Train loss: 0.6524 | Test loss: 0.8065 | Train acc.: 0.7725 | Test acc.: 0.7390\n",
      "\n",
      "Epoch:6 | Train loss: 0.6180 | Test loss: 0.6557 | Train acc.: 0.7858 | Test acc.: 0.7697\n",
      "\n",
      "Epoch:7 | Train loss: 0.5789 | Test loss: 0.6989 | Train acc.: 0.7988 | Test acc.: 0.7671\n",
      "\n",
      "Epoch:8 | Train loss: 0.5499 | Test loss: 0.6726 | Train acc.: 0.8086 | Test acc.: 0.7720\n",
      "\n",
      "Epoch:9 | Train loss: 0.5252 | Test loss: 0.5660 | Train acc.: 0.8195 | Test acc.: 0.8092\n",
      "\n",
      "Epoch:10 | Train loss: 0.5081 | Test loss: 0.6350 | Train acc.: 0.8223 | Test acc.: 0.7911\n",
      "\n",
      "Epoch:11 | Train loss: 0.4839 | Test loss: 0.5691 | Train acc.: 0.8321 | Test acc.: 0.8079\n",
      "\n",
      "Epoch:12 | Train loss: 0.4662 | Test loss: 0.6109 | Train acc.: 0.8373 | Test acc.: 0.7990\n",
      "\n",
      "Epoch:13 | Train loss: 0.4476 | Test loss: 0.5847 | Train acc.: 0.8456 | Test acc.: 0.8022\n",
      "\n",
      "Epoch:14 | Train loss: 0.4378 | Test loss: 0.5741 | Train acc.: 0.8474 | Test acc.: 0.8102\n",
      "\n",
      "Epoch:15 | Train loss: 0.4224 | Test loss: 0.4867 | Train acc.: 0.8526 | Test acc.: 0.8382\n",
      "\n",
      "Epoch:16 | Train loss: 0.4106 | Test loss: 0.6157 | Train acc.: 0.8579 | Test acc.: 0.7971\n",
      "\n",
      "Epoch:17 | Train loss: 0.3996 | Test loss: 0.5194 | Train acc.: 0.8602 | Test acc.: 0.8343\n",
      "\n",
      "Epoch:18 | Train loss: 0.3891 | Test loss: 0.4805 | Train acc.: 0.8641 | Test acc.: 0.8411\n",
      "\n",
      "Epoch:19 | Train loss: 0.3813 | Test loss: 0.5180 | Train acc.: 0.8671 | Test acc.: 0.8334\n",
      "\n",
      "Epoch:20 | Train loss: 0.3667 | Test loss: 0.4829 | Train acc.: 0.8720 | Test acc.: 0.8393\n",
      "\n",
      "Epoch:21 | Train loss: 0.3632 | Test loss: 0.4944 | Train acc.: 0.8734 | Test acc.: 0.8367\n",
      "\n",
      "Epoch:22 | Train loss: 0.3481 | Test loss: 0.4468 | Train acc.: 0.8799 | Test acc.: 0.8527\n",
      "\n",
      "Epoch:23 | Train loss: 0.3444 | Test loss: 0.5326 | Train acc.: 0.8791 | Test acc.: 0.8305\n",
      "\n",
      "Epoch:24 | Train loss: 0.3360 | Test loss: 0.4735 | Train acc.: 0.8817 | Test acc.: 0.8495\n",
      "\n"
     ]
    }
   ],
   "source": [
    "train_loss_list = []\n",
    "test_loss_list = []\n",
    "best_acc = 0\n",
    "\n",
    "for epoch in range(25):  # num epochs\n",
    "    \n",
    "    # Training\n",
    "    model.train() # Set to train mode\n",
    "    running_loss = 0.0\n",
    "    running_corrects = 0\n",
    "\n",
    "    for i, data in enumerate(trainloader): # Get data batch-wise\n",
    "        inputs, labels = data\n",
    "        inputs, labels = inputs.to(device), labels.to(device)\n",
    "        # print(inputs.shape, inputs.dtype)\n",
    "        # labels = labels.type(torch.LongTensor)\n",
    "\n",
    "        # zero out gradients\n",
    "        optimizer.zero_grad()\n",
    "\n",
    "        outputs = model(inputs) # forward pass\n",
    "        # print(outputs.shape, labels.shape)\n",
    "        loss = criterion(outputs, labels) # Get loss\n",
    "        loss.backward() # Backward pass\n",
    "        optimizer.step() # Optimize model weights\n",
    "\n",
    "        _, preds = torch.max(outputs, 1) # Get predictions\n",
    "        running_loss += loss.detach() * inputs.size(0)\n",
    "        running_corrects += torch.sum(preds == labels.data)\n",
    "\n",
    "    # Get loss and accuracy\n",
    "    train_loss = (running_loss / len(trainset))\n",
    "    train_loss_list.append(train_loss.item())\n",
    "    train_accuracy = (running_corrects.float() / len(trainset))\n",
    "\n",
    "    # Testing\n",
    "    model.eval() # Set to eval mode\n",
    "    running_loss = 0.0\n",
    "    running_corrects = 0\n",
    "    y = []; yhat = []\n",
    "\n",
    "    for i, data in enumerate(valloader):\n",
    "        inputs, labels = data\n",
    "        inputs, labels = inputs.to(device), labels.to(device)\n",
    "        # labels = labels.type(torch.LongTensor)\n",
    "\n",
    "        # forward + backward + optimize\n",
    "        with torch.no_grad(): # Don't build computation graph for testing\n",
    "            outputs = model(inputs)\n",
    "        # print(outputs.shape, labels.shape)\n",
    "        loss = criterion(outputs, labels)\n",
    "\n",
    "        _, preds = torch.max(outputs, 1)\n",
    "        y.append(labels.tolist())\n",
    "        yhat.append(preds.tolist())\n",
    "        running_loss += loss.detach() * inputs.size(0)\n",
    "        running_corrects += torch.sum(preds == labels.data)\n",
    "    \n",
    "    # Get loss and accuracy\n",
    "    test_loss = (running_loss / len(valset))\n",
    "    test_loss_list.append(test_loss.item())\n",
    "    test_accuracy = (running_corrects.float() / len(valset))\n",
    "\n",
    "    acc = test_accuracy.item()\n",
    "    if(acc > best_acc):\n",
    "        best_acc = acc\n",
    "        torch.save(model.state_dict(),\"checkpoint/resnet18.pth\")\n",
    "\n",
    "    # Display loss, accuracy values after each epoch\n",
    "    print(\"Epoch:{} | Train loss: {:.4f} | Test loss: {:.4f} | Train acc.: {:.4f} | Test acc.: {:.4f}\\n\"\n",
    "              .format(epoch, train_loss.item(),test_loss.item(),train_accuracy.item(),test_accuracy.item()))\n"
   ]
  },
  {
   "cell_type": "markdown",
   "metadata": {},
   "source": [
    "## Inference"
   ]
  },
  {
   "cell_type": "code",
   "execution_count": 7,
   "metadata": {},
   "outputs": [
    {
     "data": {
      "text/plain": [
       "<All keys matched successfully>"
      ]
     },
     "execution_count": 7,
     "metadata": {},
     "output_type": "execute_result"
    }
   ],
   "source": [
    "model = ResNet(18,10).to(device)\n",
    "model.load_state_dict(torch.load(\"checkpoint/resnet18.pth\"))"
   ]
  },
  {
   "cell_type": "markdown",
   "metadata": {},
   "source": [
    "### CIFAR10"
   ]
  },
  {
   "cell_type": "code",
   "execution_count": 8,
   "metadata": {},
   "outputs": [
    {
     "name": "stdout",
     "output_type": "stream",
     "text": [
      "Test loss: 0.4468 | Test acc.: 0.8527\n",
      "\n"
     ]
    }
   ],
   "source": [
    "# Testing\n",
    "model.eval() # Set to eval mode\n",
    "running_loss = 0.0\n",
    "running_corrects = 0\n",
    "y = []; yhat = []\n",
    "\n",
    "for i, data in enumerate(valloader):\n",
    "    inputs, labels = data\n",
    "    inputs, labels = inputs.to(device), labels.to(device)\n",
    "    # labels = labels.type(torch.LongTensor)\n",
    "\n",
    "    # forward + backward + optimize\n",
    "    with torch.no_grad(): # Don't build computation graph for testing\n",
    "        outputs = model(inputs)\n",
    "    # print(outputs.shape, labels.shape)\n",
    "    loss = criterion(outputs, labels)\n",
    "\n",
    "    _, preds = torch.max(outputs, 1)\n",
    "    y.append(labels.tolist())\n",
    "    yhat.append(preds.tolist())\n",
    "    running_loss += loss.detach() * inputs.size(0)\n",
    "    running_corrects += torch.sum(preds == labels.data)\n",
    "\n",
    "# Get loss and accuracy\n",
    "test_loss = (running_loss / len(valset))\n",
    "test_loss_list.append(test_loss.item())\n",
    "test_accuracy = (running_corrects.float() / len(valset))\n",
    "\n",
    "# Display loss, accuracy values after each epoch\n",
    "print(\"Test loss: {:.4f} | Test acc.: {:.4f}\\n\"\n",
    "            .format(test_loss.item(),test_accuracy.item()))"
   ]
  },
  {
   "cell_type": "code",
   "execution_count": 9,
   "metadata": {},
   "outputs": [],
   "source": [
    "# TENT\n",
    "\n",
    "model = tent.configure_model(model)\n",
    "params, param_names = tent.collect_params(model)\n",
    "optimizer = torch.optim.Adam(params, lr=1e-3)\n",
    "tented_model = tent.Tent(model, optimizer)\n",
    "\n",
    "tented_model = tented_model.to(device)"
   ]
  },
  {
   "cell_type": "code",
   "execution_count": 10,
   "metadata": {},
   "outputs": [
    {
     "name": "stdout",
     "output_type": "stream",
     "text": [
      "Test loss: 0.4853 | Test acc.: 0.8375\n",
      "\n"
     ]
    }
   ],
   "source": [
    "\n",
    "# Testing\n",
    "tented_model.eval() # Set to eval mode\n",
    "running_loss = 0.0\n",
    "running_corrects = 0\n",
    "y = []; yhat = []\n",
    "\n",
    "for i, data in enumerate(valloader):\n",
    "    inputs, labels = data\n",
    "    inputs, labels = inputs.to(device), labels.to(device)\n",
    "    # labels = labels.type(torch.LongTensor)\n",
    "\n",
    "    # forward + backward + optimize\n",
    "    with torch.no_grad(): # Don't build computation graph for testing\n",
    "        outputs = tented_model(inputs)\n",
    "    # print(outputs.shape, labels.shape)\n",
    "    loss = criterion(outputs, labels)\n",
    "\n",
    "    _, preds = torch.max(outputs, 1)\n",
    "    y.append(labels.tolist())\n",
    "    yhat.append(preds.tolist())\n",
    "    running_loss += loss.detach() * inputs.size(0)\n",
    "    running_corrects += torch.sum(preds == labels.data)\n",
    "\n",
    "# Get loss and accuracy\n",
    "test_loss = (running_loss / len(valset))\n",
    "test_loss_list.append(test_loss.item())\n",
    "test_accuracy = (running_corrects.float() / len(valset))\n",
    "\n",
    "# Display loss, accuracy values after each epoch\n",
    "print(\"Test loss: {:.4f} | Test acc.: {:.4f}\\n\"\n",
    "            .format(test_loss.item(),test_accuracy.item()))\n"
   ]
  },
  {
   "cell_type": "markdown",
   "metadata": {},
   "source": [
    "### CIFAR10-C"
   ]
  },
  {
   "cell_type": "code",
   "execution_count": 11,
   "metadata": {},
   "outputs": [
    {
     "name": "stdout",
     "output_type": "stream",
     "text": [
      "Average: 0.8236   brightness.npy\n",
      "Average: 0.5928   contrast.npy\n",
      "Average: 0.6924   defocus_blur.npy\n",
      "Average: 0.7049   elastic_transform.npy\n",
      "Average: 0.7488   fog.npy\n",
      "Average: 0.6417   frost.npy\n",
      "Average: 0.6115   gaussian_blur.npy\n",
      "Average: 0.4521   gaussian_noise.npy\n",
      "Average: 0.421   glass_blur.npy\n",
      "Average: 0.5461   impulse_noise.npy\n",
      "Average: 0.7211   jpeg_compression.npy\n",
      "Average: 0.6134   motion_blur.npy\n",
      "Average: 0.6485   pixelate.npy\n",
      "Average: 0.8054   saturate.npy\n",
      "Average: 0.5312   shot_noise.npy\n",
      "Average: 0.6456   snow.npy\n",
      "Average: 0.7402   spatter.npy\n",
      "Average: 0.5492   speckle_noise.npy\n",
      "Average: 0.6276   zoom_blur.npy\n",
      "Mean:  0.6377515629718178\n"
     ]
    }
   ],
   "source": [
    "model = ResNet(18,10).to(device)\n",
    "model.load_state_dict(torch.load(\"checkpoint/resnet18.pth\"))\n",
    "\n",
    "chalPath = 'data/CIFAR-10-C/'\n",
    "chals = sorted(os.listdir(chalPath))\n",
    "\n",
    "chal_labels = valset.test_labels\n",
    "chal_labels = torch.Tensor(chal_labels)\n",
    "chal_labels = chal_labels.long()\n",
    "\n",
    "def preprocess_test(X):\n",
    "\n",
    "    N, H, W, C = X.shape\n",
    "    Y = torch.zeros(N, C, H, W)\n",
    "    mean = (0.4914, 0.4822, 0.4465)\n",
    "    std = (0.2023, 0.1994, 0.2010)  \n",
    "    transform_test = transforms.Compose([\n",
    "        transforms.ToTensor(),\n",
    "        transforms.Normalize(mean,std),\n",
    "    ])\n",
    "\n",
    "    for n in range(len(X)):\n",
    "        Y[n] =  transform_test(X[n])\n",
    "\n",
    "    return Y\n",
    "\n",
    "model.eval()\n",
    "avg_list = []\n",
    "\n",
    "for challenge in range(len(chals)):\n",
    "    chal_data = np.load(chalPath + chals[challenge])\n",
    "    # chal_data = np.transpose(chal_data, (0,3,1,2))\n",
    "\n",
    "    avg = 0\n",
    "    for j in range(5):\n",
    "        chal_temp_data = chal_data[j * 10000:(j + 1) * 10000]\n",
    "        chal_temp_data = preprocess_test(chal_temp_data)\n",
    "\n",
    "        chal_dataset = torch.utils.data.TensorDataset(chal_temp_data, chal_labels)\n",
    "        chal_loader = torch.utils.data.DataLoader(chal_dataset, batch_size=128)\n",
    "        chal_error = 0\n",
    "\n",
    "        running_loss = 0.0\n",
    "        running_corrects = 0\n",
    "\n",
    "        correct = 0\n",
    "        with torch.no_grad():\n",
    "            for x, y in chal_loader:\n",
    "                # cost, err, probs = net.sample_eval(x, y, Nsamples=10, logits=False)\n",
    "                # preds_list.append(probs.cpu().numpy())\n",
    "                # chal_error += err.cpu().numpy()\n",
    "                x = x.to(device)\n",
    "                y = y.to(device)\n",
    "\n",
    "                outputs = model(x)\n",
    "                correct += torch.sum(torch.argmax(outputs,1) == y)\n",
    "            # print(err)\n",
    "\n",
    "        # print(chal_error)\n",
    "        chal_acc = (correct/len(chal_dataset)).item()\n",
    "        avg += chal_acc\n",
    "        # print(round(chal_acc,4))\n",
    "    \n",
    "    avg /= 5\n",
    "    avg_list.append(avg)\n",
    "    print(\"Average:\", round(avg,4),\" \", chals[challenge])\n",
    "\n",
    "print(\"Mean: \", np.mean(avg_list))"
   ]
  },
  {
   "cell_type": "code",
   "execution_count": 12,
   "metadata": {},
   "outputs": [],
   "source": [
    "np.save(\"resnet_base.npy\",avg_list)"
   ]
  },
  {
   "cell_type": "code",
   "execution_count": 13,
   "metadata": {},
   "outputs": [
    {
     "name": "stdout",
     "output_type": "stream",
     "text": [
      "Average: 0.8257   brightness.npy\n",
      "Average: 0.768   contrast.npy\n",
      "Average: 0.8098   defocus_blur.npy\n",
      "Average: 0.7573   elastic_transform.npy\n",
      "Average: 0.7965   fog.npy\n",
      "Average: 0.7331   frost.npy\n",
      "Average: 0.7973   gaussian_blur.npy\n",
      "Average: 0.6862   gaussian_noise.npy\n",
      "Average: 0.6061   glass_blur.npy\n",
      "Average: 0.6745   impulse_noise.npy\n",
      "Average: 0.737   jpeg_compression.npy\n",
      "Average: 0.768   motion_blur.npy\n",
      "Average: 0.769   pixelate.npy\n",
      "Average: 0.8161   saturate.npy\n",
      "Average: 0.7181   shot_noise.npy\n",
      "Average: 0.6984   snow.npy\n",
      "Average: 0.7693   spatter.npy\n",
      "Average: 0.7128   speckle_noise.npy\n",
      "Average: 0.7944   zoom_blur.npy\n",
      "Mean:  0.7493420883228904\n"
     ]
    }
   ],
   "source": [
    "# Tented\n",
    "\n",
    "chalPath = 'data/CIFAR-10-C/'\n",
    "chals = sorted(os.listdir(chalPath))\n",
    "\n",
    "chal_labels = valset.test_labels\n",
    "chal_labels = torch.Tensor(chal_labels)\n",
    "chal_labels = chal_labels.long()\n",
    "\n",
    "def preprocess_test(X):\n",
    "\n",
    "    N, H, W, C = X.shape\n",
    "    Y = torch.zeros(N, C, H, W)\n",
    "    mean = (0.4914, 0.4822, 0.4465)\n",
    "    std = (0.2023, 0.1994, 0.2010)  \n",
    "    transform_test = transforms.Compose([\n",
    "        transforms.ToTensor(),\n",
    "        transforms.Normalize(mean,std),\n",
    "    ])\n",
    "\n",
    "    for n in range(len(X)):\n",
    "        Y[n] =  transform_test(X[n])\n",
    "\n",
    "    return Y\n",
    "\n",
    "avg_list = []\n",
    "\n",
    "for challenge in range(len(chals)):\n",
    "    chal_data = np.load(chalPath + chals[challenge])\n",
    "    # chal_data = np.transpose(chal_data, (0,3,1,2))\n",
    "\n",
    "    avg = 0\n",
    "    for j in range(5):\n",
    "\n",
    "        # Load tented model\n",
    "        model = ResNet(18,10)\n",
    "        model.load_state_dict(torch.load(\"checkpoint/resnet18.pth\"))\n",
    "        \n",
    "        net = tent.configure_model(model)\n",
    "        params, param_names = tent.collect_params(net)\n",
    "        optimizer = torch.optim.Adam(params, lr=1e-3)\n",
    "        tented_model = tent.Tent(net, optimizer)\n",
    "\n",
    "        tented_model = tented_model.to(device)\n",
    "\n",
    "        \n",
    "        chal_temp_data = chal_data[j * 10000:(j + 1) * 10000]\n",
    "        chal_temp_data = preprocess_test(chal_temp_data)\n",
    "\n",
    "        chal_dataset = torch.utils.data.TensorDataset(chal_temp_data, chal_labels)\n",
    "        chal_loader = torch.utils.data.DataLoader(chal_dataset, batch_size=128)\n",
    "        chal_error = 0\n",
    "\n",
    "        running_loss = 0.0\n",
    "        running_corrects = 0\n",
    "\n",
    "        tented_model.eval()\n",
    "        \n",
    "        correct = 0\n",
    "        with torch.no_grad():\n",
    "            for x, y in chal_loader:\n",
    "                # cost, err, probs = net.sample_eval(x, y, Nsamples=10, logits=False)\n",
    "                # preds_list.append(probs.cpu().numpy())\n",
    "                # chal_error += err.cpu().numpy()\n",
    "                x = x.to(device)\n",
    "                y = y.to(device)\n",
    "\n",
    "                outputs = tented_model(x)\n",
    "                correct += torch.sum(torch.argmax(outputs,1) == y)\n",
    "            # print(err)\n",
    "\n",
    "        # print(chal_error)\n",
    "        chal_acc = (correct/len(chal_dataset)).item()\n",
    "        avg += chal_acc\n",
    "        # print(round(chal_acc,4))\n",
    "    \n",
    "    avg /= 5\n",
    "    avg_list.append(avg)\n",
    "    print(\"Average:\", round(avg,4),\" \", chals[challenge])\n",
    "\n",
    "print(\"Mean: \", np.mean(avg_list))"
   ]
  },
  {
   "cell_type": "code",
   "execution_count": 14,
   "metadata": {},
   "outputs": [],
   "source": [
    "np.save(\"resnet_tent.npy\",avg_list)"
   ]
  },
  {
   "cell_type": "code",
   "execution_count": 15,
   "metadata": {},
   "outputs": [],
   "source": [
    "list1 = np.load(\"resnet_base.npy\")\n",
    "list2 = np.load(\"resnet_tent.npy\")"
   ]
  },
  {
   "cell_type": "code",
   "execution_count": 25,
   "metadata": {},
   "outputs": [
    {
     "data": {
      "image/png": "[encoded data removed]",
      "text/plain": [
       "<Figure size 864x432 with 1 Axes>"
      ]
     },
     "metadata": {
      "needs_background": "light"
     },
     "output_type": "display_data"
    }
   ],
   "source": [
    "types = np.arange(1,20)\n",
    "\n",
    "plt.figure(figsize=(12,6))\n",
    "x_axis = np.arange(len(types))\n",
    "plt.bar(x_axis -0.1, list1, width=0.2, label = 'Base model')\n",
    "plt.bar(x_axis +0.1, list2, width=0.2, label = 'Tented model')\n",
    "\n",
    "plt.xticks(x_axis, types)\n",
    "plt.title(\"Average accuracy per distortion type\")\n",
    "plt.legend(loc = 'upper right', framealpha = 0.1)\n",
    "\n",
    "plt.xlabel(\"Distortion type\")\n",
    "plt.ylabel(\"Average accuracy\")\n",
    "plt.savefig(\"cifar10c_resnet.pdf\",bbox_inches = \"tight\")\n",
    "# plt.show()"
   ]
  },
  {
   "cell_type": "code",
   "execution_count": null,
   "metadata": {},
   "outputs": [],
   "source": []
  }
 ],
 "metadata": {
  "interpreter": {
   "hash": "31b8918c388efabf28e06d7aa829f320b99f50374aee3ccc5c6fe8cd01c3acd4"
  },
  "kernelspec": {
   "display_name": "Python 3.7.11 ('base')",
   "language": "python",
   "name": "python3"
  },
  "language_info": {
   "codemirror_mode": {
    "name": "ipython",
    "version": 3
   },
   "file_extension": ".py",
   "mimetype": "text/x-python",
   "name": "python",
   "nbconvert_exporter": "python",
   "pygments_lexer": "ipython3",
   "version": "3.7.11"
  },
  "orig_nbformat": 4
 },
 "nbformat": 4,
 "nbformat_minor": 2
}
