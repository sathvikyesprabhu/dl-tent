{
 "cells": [
  {
   "cell_type": "code",
   "execution_count": 12,
   "metadata": {},
   "outputs": [],
   "source": [
    "import torch\n",
    "import torch.nn as nn\n",
    "from torch.nn import functional as F\n",
    "from torchvision import transforms, datasets\n",
    "import torch.backends.cudnn as cudnn\n",
    "\n",
    "import time\n",
    "import os\n",
    "import numpy as np\n",
    "import seaborn as sns\n",
    "import matplotlib\n",
    "import matplotlib.pyplot as plt\n",
    "import math\n",
    "from scipy.special import softmax\n",
    "\n",
    "from networks import ResNet\n",
    "from utils import *\n",
    "from utils_plotting import *\n",
    "import tent"
   ]
  },
  {
   "cell_type": "code",
   "execution_count": 2,
   "metadata": {},
   "outputs": [
    {
     "name": "stdout",
     "output_type": "stream",
     "text": [
      "True\n",
      "0\n",
      "1\n",
      "NVIDIA GeForce GTX 1070\n"
     ]
    }
   ],
   "source": [
    "print(torch.cuda.is_available())\n",
    "use_cuda = torch.cuda.is_available()\n",
    "\n",
    "print(torch.cuda.current_device())\n",
    "print(torch.cuda.device_count())\n",
    "print(torch.cuda.get_device_name(0))\n",
    "device = torch.device('cuda:0' if torch.cuda.is_available() else 'cpu')"
   ]
  },
  {
   "cell_type": "code",
   "execution_count": 3,
   "metadata": {},
   "outputs": [
    {
     "name": "stdout",
     "output_type": "stream",
     "text": [
      "Files already downloaded and verified\n",
      "Files already downloaded and verified\n",
      "(50000, 32, 32, 3)\n"
     ]
    }
   ],
   "source": [
    "batch_size = 128\n",
    "mean = (0.4914, 0.4822, 0.4465)\n",
    "std = (0.2023, 0.1994, 0.2010)\n",
    "\n",
    "transform_train = transforms.Compose([transforms.RandomHorizontalFlip(),\n",
    "                                    transforms.RandomCrop(32, padding=4),\n",
    "                                    transforms.ToTensor(),\n",
    "                                    transforms.Normalize(mean, std)\n",
    "                                    ])\n",
    "transform_test = transforms.Compose([transforms.ToTensor(),\n",
    "                                    transforms.Normalize(mean, std)])\n",
    "\n",
    "trainset = datasets.CIFAR10(root='./data', train=True, download=True, transform=transform_train)\n",
    "valset = datasets.CIFAR10(root='./data', train=False, download=True, transform=transform_test)\n",
    "\n",
    "trainloader = torch.utils.data.DataLoader(trainset, batch_size=batch_size, shuffle=True, num_workers=4)\n",
    "valloader = torch.utils.data.DataLoader(valset, batch_size=batch_size, shuffle=False, num_workers=4)\n",
    "\n",
    "print(trainset.train_data.shape)\n",
    "\n",
    "models_dir = \"Models/\" + 'Tent_models'\n",
    "results_dir = \"Results/\" + 'Tent_results'"
   ]
  },
  {
   "cell_type": "markdown",
   "metadata": {},
   "source": [
    "## Network"
   ]
  },
  {
   "cell_type": "code",
   "execution_count": 5,
   "metadata": {},
   "outputs": [
    {
     "name": "stdout",
     "output_type": "stream",
     "text": [
      "0.175818 M parameters\n"
     ]
    }
   ],
   "source": [
    "model = ResNet(18,10)\n",
    "model.load_state_dict(torch.load(models_dir + '/' + 'theta_best.pt'))\n",
    "\n",
    "print(sum(p.numel() for p in model.parameters())/1000000, \"M parameters\")\n",
    "\n",
    "# TENT\n",
    "\n",
    "model = tent.configure_model(model)\n",
    "params, param_names = tent.collect_params(model)\n",
    "# optimizer = torch.optim.Adam(params, lr=1e-1)\n",
    "optimizer = torch.optim.SGD(params, lr=0.01, momentum=0.9, weight_decay=5e-4)\n",
    "\n",
    "tented_model = tent.Tent(model, optimizer)\n",
    "# tented_model.load_state_dict(torch.load(models_dir + '/' + 'theta_best.pt'))\n",
    "\n",
    "tented_model = tented_model.to(device)"
   ]
  },
  {
   "cell_type": "markdown",
   "metadata": {},
   "source": [
    "## Inference"
   ]
  },
  {
   "cell_type": "markdown",
   "metadata": {},
   "source": [
    "### Rotations"
   ]
  },
  {
   "cell_type": "code",
   "execution_count": 6,
   "metadata": {},
   "outputs": [
    {
     "data": {
      "text/plain": [
       "(16, 10000, 32, 32, 3)"
      ]
     },
     "execution_count": 6,
     "metadata": {},
     "output_type": "execute_result"
    }
   ],
   "source": [
    "data_rotated = np.load(\"data/CIFAR10_rotated.npy\")\n",
    "# data_rotated = np.transpose(data_rotated, (0,1,4,2,3))\n",
    "data_rotated.shape"
   ]
  },
  {
   "cell_type": "code",
   "execution_count": 13,
   "metadata": {},
   "outputs": [
    {
     "name": "stdout",
     "output_type": "stream",
     "text": [
      "0\n",
      "500\n",
      "1000\n",
      "1500\n",
      "2000\n",
      "2500\n",
      "3000\n",
      "3500\n",
      "4000\n",
      "4500\n",
      "5000\n",
      "5500\n",
      "6000\n",
      "6500\n",
      "7000\n",
      "7500\n",
      "8000\n",
      "8500\n",
      "9000\n",
      "9500\n"
     ]
    }
   ],
   "source": [
    "steps = 16\n",
    "N = 10000\n",
    "Nsamples = 3\n",
    "y_dev = valset.test_labels\n",
    "\n",
    "def preprocess_test(X):\n",
    "\n",
    "    N, H, W, C = X.shape\n",
    "    Y = torch.zeros(N, C, H, W)\n",
    "    mean = (0.4914, 0.4822, 0.4465)\n",
    "    std = (0.2023, 0.1994, 0.2010)  \n",
    "    transform_test = transforms.Compose([\n",
    "        transforms.ToTensor(),\n",
    "        transforms.Normalize(mean,std),\n",
    "    ])\n",
    "\n",
    "    for n in range(len(X)):\n",
    "        Y[n] =  transform_test(X[n])\n",
    "\n",
    "    return Y\n",
    "\n",
    "all_preds = np.zeros((N, steps, 10))\n",
    "all_sample_preds = np.zeros((N, Nsamples, steps, 10))\n",
    "\n",
    "for im_ind in range(N):\n",
    "    if(im_ind % 500 == 0):\n",
    "        print(im_ind)\n",
    "\n",
    "    y =  y_dev[im_ind]\n",
    "    \n",
    "    ims = data_rotated[:,im_ind,:,:,:]\n",
    "    ims = preprocess_test(ims)\n",
    "    # print(ims.shape)\n",
    "\n",
    "    y = np.ones(ims.shape[0])*y\n",
    "    \n",
    "    # sample_probs = tented_model.all_sample_eval(ims, torch.from_numpy(y), Nsamples=Nsamples)\n",
    "\n",
    "    predictions = torch.zeros(Nsamples, steps, 10)\n",
    "\n",
    "    ims = ims.to(device)\n",
    "    for i in range(Nsamples):\n",
    "        y = tented_model(ims)\n",
    "        # print(y.shape)\n",
    "        predictions[i] = y\n",
    "\n",
    "    probs = F.softmax(predictions, dim=2)\n",
    "    probs = probs.detach().numpy()\n",
    "\n",
    "    all_sample_preds[im_ind] = probs\n",
    "    all_preds[im_ind] = np.mean(probs, axis=0)\n"
   ]
  },
  {
   "cell_type": "code",
   "execution_count": 14,
   "metadata": {},
   "outputs": [
    {
     "data": {
      "image/png": "[encoded data removed]",
      "text/plain": [
       "<Figure size 600x400 with 2 Axes>"
      ]
     },
     "metadata": {
      "needs_background": "light"
     },
     "output_type": "display_data"
    }
   ],
   "source": [
    "rotations = (np.linspace(0, 179, steps)).astype(int)\n",
    "\n",
    "correct_preds = np.zeros((N, steps))\n",
    "for i in range(N):\n",
    "    correct_preds[i,:] = all_preds[i,:,y_dev[i]]   \n",
    "\n",
    "np.save(results_dir+'/correct_preds.npy', correct_preds)\n",
    "np.save(results_dir+'/all_preds.npy', all_preds)\n",
    "np.save(results_dir+'/all_sample_preds.npy', all_sample_preds)\n",
    "\n",
    "plot_predictive_entropy(correct_preds, all_preds, rotations, results_dir)"
   ]
  },
  {
   "cell_type": "code",
   "execution_count": 17,
   "metadata": {},
   "outputs": [
    {
     "name": "stdout",
     "output_type": "stream",
     "text": [
      "[5 8 1 8 4 6 9 2 3 9 3 9 5 7 1 1 7 1 3 2 3 4 3 0 3 3 4 1 7 1 1 1 2 3 2 3 3\n",
      " 7 3 1 7 3 3 7 7 7 3 7 7 1 1 7 7 3 2 7 3 7 1 1 1 3 7 7 1 1 7 7 3 1 7 7 7 7\n",
      " 7 1 7 1 3 7 7 7 7 3 3 3 3 7 7 7 7 1 3 3 3 3 3 7 3 7] [3, 8, 8, 0, 6, 6, 1, 6, 3, 1, 0, 9, 5, 7, 9, 8, 5, 7, 8, 6, 7, 0, 4, 9, 5, 2, 4, 0, 9, 6, 6, 5, 4, 5, 9, 2, 4, 1, 9, 5, 4, 6, 5, 6, 0, 9, 3, 9, 7, 6, 9, 8, 0, 3, 8, 8, 7, 7, 4, 6, 7, 3, 6, 3, 6, 2, 1, 2, 3, 7, 2, 6, 8, 8, 0, 2, 9, 3, 3, 8, 8, 1, 1, 7, 2, 5, 2, 7, 8, 9, 0, 3, 8, 6, 4, 6, 6, 0, 0, 7]\n"
     ]
    }
   ],
   "source": [
    "preds = np.argmax(all_preds[:,0,:],axis=1)\n",
    "print(preds[:100],valset.test_labels[:100])"
   ]
  },
  {
   "cell_type": "code",
   "execution_count": 18,
   "metadata": {},
   "outputs": [
    {
     "name": "stdout",
     "output_type": "stream",
     "text": [
      "0.099\n"
     ]
    }
   ],
   "source": [
    "print(np.mean(preds == valset.test_labels))"
   ]
  },
  {
   "cell_type": "markdown",
   "metadata": {},
   "source": [
    "### CIFAR10-C"
   ]
  },
  {
   "cell_type": "code",
   "execution_count": 56,
   "metadata": {},
   "outputs": [
    {
     "name": "stdout",
     "output_type": "stream",
     "text": [
      "0.175818 M parameters\n"
     ]
    }
   ],
   "source": [
    "model = ResNet(18,10)\n",
    "model.load_state_dict(torch.load(models_dir + '/' + 'theta_best.pt'))\n",
    "# checkpoint = torch.load(models_dir + '/' + 'theta_best.t7')\n",
    "# model = checkpoint['net']\n",
    "\n",
    "print(sum(p.numel() for p in model.parameters())/1000000, \"M parameters\")\n",
    "\n",
    "# TENT\n",
    "\n",
    "model = tent.configure_model(model)\n",
    "params, param_names = tent.collect_params(model)\n",
    "# optimizer = torch.optim.Adam(params, lr=1e-1)\n",
    "optimizer = torch.optim.SGD(params, lr=0.01, momentum=0.9, weight_decay=5e-4)\n",
    "\n",
    "tented_model = tent.Tent(model, optimizer)\n",
    "# tented_model.load_state_dict(torch.load(models_dir + '/' + 'theta_best.pt'))\n",
    "\n",
    "tented_model = tented_model.to(device)"
   ]
  },
  {
   "cell_type": "code",
   "execution_count": 66,
   "metadata": {},
   "outputs": [
    {
     "name": "stdout",
     "output_type": "stream",
     "text": [
      "0.2276\n",
      "0.2179\n",
      "0.1843\n",
      "0.2514\n",
      "0.2366\n",
      "Average: 0.2236   brightness.npy\n",
      "0.2299\n",
      "0.1446\n",
      "0.2273\n",
      "0.2084\n",
      "0.1884\n",
      "Average: 0.1997   contrast.npy\n",
      "0.2547\n",
      "0.2065\n",
      "0.2128\n",
      "0.2143\n",
      "0.1732\n",
      "Average: 0.2123   defocus_blur.npy\n",
      "0.1994\n",
      "0.2053\n",
      "0.2101\n",
      "0.1784\n",
      "0.1787\n",
      "Average: 0.1944   elastic_transform.npy\n",
      "0.2736\n",
      "0.2214\n",
      "0.2646\n",
      "0.1906\n",
      "0.205\n",
      "Average: 0.231   fog.npy\n",
      "0.2012\n",
      "0.2153\n",
      "0.168\n",
      "0.1684\n",
      "0.125\n",
      "Average: 0.1756   frost.npy\n",
      "0.2331\n",
      "0.2198\n",
      "0.2142\n",
      "0.2198\n",
      "0.1867\n",
      "Average: 0.2147   gaussian_blur.npy\n",
      "0.1679\n",
      "0.2002\n",
      "0.2168\n",
      "0.1708\n",
      "0.2339\n",
      "Average: 0.1979   gaussian_noise.npy\n",
      "0.141\n",
      "0.1936\n",
      "0.1744\n",
      "0.1392\n",
      "0.1522\n",
      "Average: 0.1601   glass_blur.npy\n",
      "0.1811\n",
      "0.1556\n",
      "0.1593\n",
      "0.1624\n",
      "0.1712\n",
      "Average: 0.1659   impulse_noise.npy\n",
      "0.1974\n",
      "0.1816\n",
      "0.2131\n",
      "0.1828\n",
      "0.1494\n",
      "Average: 0.1849   jpeg_compression.npy\n",
      "0.1792\n",
      "0.1684\n",
      "0.1513\n",
      "0.1986\n",
      "0.1709\n",
      "Average: 0.1737   motion_blur.npy\n",
      "0.1965\n",
      "0.1919\n",
      "0.2113\n",
      "0.2024\n",
      "0.1662\n",
      "Average: 0.1937   pixelate.npy\n",
      "0.2421\n",
      "0.1944\n",
      "0.2636\n",
      "0.2607\n",
      "0.2097\n",
      "Average: 0.2341   saturate.npy\n",
      "0.2267\n",
      "0.1668\n",
      "0.1781\n",
      "0.2086\n",
      "0.178\n",
      "Average: 0.1916   shot_noise.npy\n",
      "0.1719\n",
      "0.1899\n",
      "0.1744\n",
      "0.181\n",
      "0.2057\n",
      "Average: 0.1846   snow.npy\n",
      "0.2164\n",
      "0.21\n",
      "0.2064\n",
      "0.1916\n",
      "0.2109\n",
      "Average: 0.2071   spatter.npy\n",
      "0.215\n",
      "0.1489\n",
      "0.1439\n",
      "0.1779\n",
      "0.1689\n",
      "Average: 0.1709   speckle_noise.npy\n",
      "0.2338\n",
      "0.1908\n",
      "0.2291\n",
      "0.196\n",
      "0.1973\n",
      "Average: 0.2094   zoom_blur.npy\n",
      "Mean:  0.1960589466910613\n"
     ]
    }
   ],
   "source": [
    "# model = ResNet(18,10).to(device)\n",
    "# model.load_state_dict(torch.load(models_dir + '/' + 'theta_best.pt'))\n",
    "# checkpoint = torch.load(models_dir + '/' + 'theta_best.t7')\n",
    "# model = checkpoint['net']\n",
    "\n",
    "chalPath = 'data/CIFAR-10-C/'\n",
    "chals = sorted(os.listdir(chalPath))\n",
    "\n",
    "chal_labels = valset.test_labels\n",
    "chal_labels = torch.Tensor(chal_labels)\n",
    "chal_labels = chal_labels.long()\n",
    "\n",
    "Nsamples = 10\n",
    "\n",
    "def preprocess_test(X):\n",
    "\n",
    "    N, H, W, C = X.shape\n",
    "    Y = torch.zeros(N, C, H, W)\n",
    "    mean = (0.4914, 0.4822, 0.4465)\n",
    "    std = (0.2023, 0.1994, 0.2010)  \n",
    "    transform_test = transforms.Compose([\n",
    "        transforms.ToTensor(),\n",
    "        transforms.Normalize(mean,std),\n",
    "    ])\n",
    "\n",
    "    for n in range(len(X)):\n",
    "        Y[n] =  transform_test(X[n])\n",
    "\n",
    "    return Y\n",
    "\n",
    "preds_list= []\n",
    "# net.eval()\n",
    "avg_list = []\n",
    "\n",
    "for challenge in range(len(chals)):\n",
    "    chal_data = np.load(chalPath + chals[challenge])\n",
    "    # chal_data = np.transpose(chal_data, (0,3,1,2))\n",
    "\n",
    "    avg = 0\n",
    "    for j in range(5):\n",
    "\n",
    "        # Get Tented Model\n",
    "        model = ResNet(18,10)\n",
    "        model.load_state_dict(torch.load(models_dir + '/' + 'theta_best.pt'))\n",
    "\n",
    "        model = tent.configure_model(model)\n",
    "        params, param_names = tent.collect_params(model)\n",
    "        optimizer = torch.optim.SGD(params, lr=0.1, momentum=0.9, weight_decay=5e-4)\n",
    "        tented_model = tent.Tent(model, optimizer)\n",
    "        # tented_model.load_state_dict(torch.load(models_dir + '/' + 'theta_best.pt'))\n",
    "        tented_model = tented_model.to(device)\n",
    "\n",
    "        # Load CIFAR10-C Data\n",
    "        chal_temp_data = chal_data[j * 10000:(j + 1) * 10000]\n",
    "        chal_temp_data = preprocess_test(chal_temp_data)\n",
    "\n",
    "        chal_dataset = torch.utils.data.TensorDataset(chal_temp_data, chal_labels)\n",
    "        chal_loader = torch.utils.data.DataLoader(chal_dataset, batch_size=100)\n",
    "        chal_error = 0\n",
    "\n",
    "        correct = 0\n",
    "        with torch.no_grad():\n",
    "            for x, y in chal_loader:\n",
    "                # cost, err, probs = net.sample_eval(x, y, Nsamples=10, logits=False)\n",
    "                # preds_list.append(probs.cpu().numpy())\n",
    "                # chal_error += err.cpu().numpy()\n",
    "                x = x.to(device)\n",
    "                predictions = torch.zeros(Nsamples, 100, 10)\n",
    "                for i in range(Nsamples):\n",
    "                    outputs = tented_model(x)\n",
    "                    # print(y.shape)\n",
    "                    predictions[i] = F.softmax(outputs, dim=1)\n",
    "                \n",
    "                preds = predictions.mean(0)\n",
    "                preds_list.append(preds.cpu().numpy())\n",
    "                correct += torch.sum(torch.argmax(preds,1) == y)\n",
    "            # print(err)\n",
    "\n",
    "        # print(chal_error)\n",
    "        chal_acc = (correct/len(chal_dataset)).item()\n",
    "        avg += chal_acc\n",
    "        print(round(chal_acc,4))\n",
    "    \n",
    "    avg /= 5\n",
    "    avg_list.append(avg)\n",
    "    print(\"Average:\", round(avg,4),\" \", chals[challenge])\n",
    "\n",
    "print(\"Mean: \", np.mean(avg_list))"
   ]
  },
  {
   "cell_type": "code",
   "execution_count": 67,
   "metadata": {},
   "outputs": [
    {
     "data": {
      "text/plain": [
       "(950000, 10)"
      ]
     },
     "execution_count": 67,
     "metadata": {},
     "output_type": "execute_result"
    }
   ],
   "source": [
    "preds_list1 = np.vstack(preds_list)\n",
    "preds_list1.shape"
   ]
  },
  {
   "cell_type": "code",
   "execution_count": null,
   "metadata": {},
   "outputs": [],
   "source": [
    "np.save(results_dir+'/preds_CIFAR-10-C.npy', preds_list1)\n",
    "np.save(results_dir+'/avg_list_CIFAR-10-C.npy', avg_list)"
   ]
  },
  {
   "cell_type": "code",
   "execution_count": null,
   "metadata": {},
   "outputs": [],
   "source": []
  }
 ],
 "metadata": {
  "interpreter": {
   "hash": "31b8918c388efabf28e06d7aa829f320b99f50374aee3ccc5c6fe8cd01c3acd4"
  },
  "kernelspec": {
   "display_name": "Python 3.7.11 ('base')",
   "language": "python",
   "name": "python3"
  },
  "language_info": {
   "codemirror_mode": {
    "name": "ipython",
    "version": 3
   },
   "file_extension": ".py",
   "mimetype": "text/x-python",
   "name": "python",
   "nbconvert_exporter": "python",
   "pygments_lexer": "ipython3",
   "version": "3.7.11"
  },
  "orig_nbformat": 4
 },
 "nbformat": 4,
 "nbformat_minor": 2
}
