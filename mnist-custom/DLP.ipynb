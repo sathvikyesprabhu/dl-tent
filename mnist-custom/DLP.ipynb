{
  "nbformat": 4,
  "nbformat_minor": 0,
  "metadata": {
    "colab": {
      "name": "DLP.ipynb",
      "provenance": [],
      "collapsed_sections": []
    },
    "kernelspec": {
      "name": "python3",
      "display_name": "Python 3"
    },
    "language_info": {
      "name": "python"
    },
    "accelerator": "GPU"
  },
  "cells": [
    {
      "cell_type": "code",
      "execution_count": null,
      "metadata": {
        "colab": {
          "base_uri": "https://localhost:8080/"
        },
        "id": "zGtrEuaROiXo",
        "outputId": "776530f2-68cc-4d99-c616-ca1ed79fec28"
      },
      "outputs": [
        {
          "output_type": "stream",
          "name": "stdout",
          "text": [
            "Mounted at /content/drive\n"
          ]
        }
      ],
      "source": [
        "from google.colab import drive\n",
        "drive.mount('/content/drive')"
      ]
    },
    {
      "cell_type": "code",
      "source": [
        "%cd /content/drive/MyDrive/tent"
      ],
      "metadata": {
        "colab": {
          "base_uri": "https://localhost:8080/"
        },
        "id": "ZZ_OUNyBOk5k",
        "outputId": "c50e0737-055b-4e08-957c-232ba6caac30"
      },
      "execution_count": null,
      "outputs": [
        {
          "output_type": "stream",
          "name": "stdout",
          "text": [
            "/content/drive/MyDrive/tent\n"
          ]
        }
      ]
    },
    {
      "cell_type": "code",
      "source": [
        "!pip install torchattacks\n",
        "!!pip install -r requirements.txt\n",
        "#One important thing, remove the first three lines from requirements.txt, no need to downgrade torch and torchvision"
      ],
      "metadata": {
        "colab": {
          "base_uri": "https://localhost:8080/"
        },
        "id": "qzW_YDB6PQYS",
        "outputId": "f0780f91-8972-42ac-d16d-3329e66e241a"
      },
      "execution_count": null,
      "outputs": [
        {
          "output_type": "stream",
          "name": "stdout",
          "text": [
            "Requirement already satisfied: torchattacks in /usr/local/lib/python3.7/dist-packages (3.2.6)\n"
          ]
        }
      ]
    },
    {
      "cell_type": "code",
      "source": [
        "import os\n",
        "import sys\n",
        "import numpy as np\n",
        "import matplotlib.pyplot as plt\n",
        "%matplotlib inline\n",
        "import torch\n",
        "import torch.nn as nn\n",
        "import torch.optim as optim\n",
        "import torchvision.utils\n",
        "from torchvision import models\n",
        "import torchvision.datasets as dsets\n",
        "import torchvision.transforms as transforms\n",
        "import torchattacks\n",
        "from torchattacks import PGD, FGSM"
      ],
      "metadata": {
        "id": "_6NA1HSRO89H"
      },
      "execution_count": null,
      "outputs": []
    },
    {
      "cell_type": "code",
      "source": [
        "#Feel free to play around with this model or add custom model\n",
        "class CNN(nn.Module):\n",
        "    def __init__(self):\n",
        "        super(CNN, self).__init__()\n",
        "        \n",
        "        self.layer = nn.Sequential(\n",
        "            nn.Conv2d(1,16,5), # 16*24*24\n",
        "            nn.ReLU(),\n",
        "            nn.BatchNorm2d(16),\n",
        "            nn.Conv2d(16,32,5), # 32*20*20\n",
        "            nn.ReLU(),\n",
        "            nn.BatchNorm2d(32),\n",
        "            nn.MaxPool2d(2,2), # 32*10*10\n",
        "            nn.Conv2d(32,64,5), # 64*6*6\n",
        "            nn.ReLU(),\n",
        "            nn.BatchNorm2d(64),\n",
        "            nn.MaxPool2d(2,2) #64*3*3\n",
        "        )\n",
        "        \n",
        "        self.fc_layer = nn.Sequential(\n",
        "            nn.Linear(64*3*3,100),\n",
        "            nn.ReLU(),\n",
        "            nn.Linear(100,10)\n",
        "        )       \n",
        "        \n",
        "    def forward(self,x):\n",
        "        out = self.layer(x)\n",
        "        out = out.view(-1,64*3*3)\n",
        "        out = self.fc_layer(out)\n",
        "\n",
        "        return out\n"
      ],
      "metadata": {
        "id": "Hydq_GQrSVVd"
      },
      "execution_count": null,
      "outputs": []
    },
    {
      "cell_type": "code",
      "source": [
        "#Dataset\n",
        "mnist_train = dsets.MNIST(root='./data/',\n",
        "                          train=True,\n",
        "                          transform=transforms.ToTensor(),\n",
        "                          download=True)\n",
        "\n",
        "mnist_test = dsets.MNIST(root='./data/',\n",
        "                         train=False,\n",
        "                         transform=transforms.ToTensor(),\n",
        "                         download=True)"
      ],
      "metadata": {
        "id": "W7EttpOzS2Ep"
      },
      "execution_count": null,
      "outputs": []
    },
    {
      "cell_type": "code",
      "source": [
        "batch_size = 128\n",
        "\n",
        "train_loader  = torch.utils.data.DataLoader(dataset=mnist_train,\n",
        "                                           batch_size=batch_size,\n",
        "                                           shuffle=False)\n",
        "\n",
        "test_loader = torch.utils.data.DataLoader(dataset=mnist_test,\n",
        "                                         batch_size=batch_size,\n",
        "                                         shuffle=False)"
      ],
      "metadata": {
        "id": "k0Z2XL2hS41Q"
      },
      "execution_count": null,
      "outputs": []
    },
    {
      "cell_type": "code",
      "source": [
        "model = CNN().cuda()"
      ],
      "metadata": {
        "id": "a-GH6S9vS85Z"
      },
      "execution_count": null,
      "outputs": []
    },
    {
      "cell_type": "code",
      "source": [
        "loss = nn.CrossEntropyLoss()\n",
        "optimizer = optim.Adam(model.parameters(), lr=0.001)\n",
        "num_epochs=5\n",
        "atk = PGD(model, eps=0.3, alpha=0.1, steps=7)"
      ],
      "metadata": {
        "id": "A_4nYqD_S_IT"
      },
      "execution_count": null,
      "outputs": []
    },
    {
      "cell_type": "code",
      "source": [
        "for epoch in range(num_epochs):\n",
        "\n",
        "    total_batch = len(mnist_train) // batch_size\n",
        "    \n",
        "    for i, (batch_images, batch_labels) in enumerate(train_loader):\n",
        "        X = atk(batch_images, batch_labels).cuda()\n",
        "        Y = batch_labels.cuda()\n",
        "\n",
        "        pre = model(X)\n",
        "        cost = loss(pre, Y)\n",
        "\n",
        "        optimizer.zero_grad()\n",
        "        cost.backward()\n",
        "        optimizer.step()\n",
        "\n",
        "        if (i+1) % 100 == 0:\n",
        "            print('Epoch [%d/%d], lter [%d/%d], Loss: %.4f'\n",
        "                 %(epoch+1, num_epochs, i+1, total_batch, cost.item()))"
      ],
      "metadata": {
        "colab": {
          "base_uri": "https://localhost:8080/"
        },
        "id": "Ob5yCSdKTQyz",
        "outputId": "09d524a0-e4bd-4387-c82d-d0a4383c0a23"
      },
      "execution_count": null,
      "outputs": [
        {
          "output_type": "stream",
          "name": "stdout",
          "text": [
            "Epoch [1/5], lter [100/468], Loss: 1.5526\n",
            "Epoch [1/5], lter [200/468], Loss: 0.8477\n",
            "Epoch [1/5], lter [300/468], Loss: 0.6861\n",
            "Epoch [1/5], lter [400/468], Loss: 0.4772\n",
            "Epoch [2/5], lter [100/468], Loss: 0.3729\n",
            "Epoch [2/5], lter [200/468], Loss: 0.3412\n",
            "Epoch [2/5], lter [300/468], Loss: 0.3874\n",
            "Epoch [2/5], lter [400/468], Loss: 0.2129\n",
            "Epoch [3/5], lter [100/468], Loss: 0.3142\n",
            "Epoch [3/5], lter [200/468], Loss: 0.2840\n",
            "Epoch [3/5], lter [300/468], Loss: 0.2953\n",
            "Epoch [3/5], lter [400/468], Loss: 0.1122\n",
            "Epoch [4/5], lter [100/468], Loss: 0.2499\n",
            "Epoch [4/5], lter [200/468], Loss: 0.2466\n",
            "Epoch [4/5], lter [300/468], Loss: 0.2440\n",
            "Epoch [4/5], lter [400/468], Loss: 0.0839\n",
            "Epoch [5/5], lter [100/468], Loss: 0.2125\n",
            "Epoch [5/5], lter [200/468], Loss: 0.2382\n",
            "Epoch [5/5], lter [300/468], Loss: 0.2526\n",
            "Epoch [5/5], lter [400/468], Loss: 0.0766\n"
          ]
        }
      ]
    },
    {
      "cell_type": "code",
      "source": [
        "#Evaluate accuracy\n",
        "model.eval()\n",
        "\n",
        "correct = 0\n",
        "total = 0\n",
        "\n",
        "for images, labels in test_loader:\n",
        "    \n",
        "    images = images.cuda()\n",
        "    outputs = model(images)\n",
        "    \n",
        "    _, predicted = torch.max(outputs.data, 1)\n",
        "    \n",
        "    total += labels.size(0)\n",
        "    correct += (predicted == labels.cuda()).sum()\n",
        "    \n",
        "print('Standard accuracy: %.2f %%' % (100 * float(correct) / total))"
      ],
      "metadata": {
        "colab": {
          "base_uri": "https://localhost:8080/"
        },
        "id": "dCSrBNGuTYuy",
        "outputId": "d2c7d5d0-9fbe-431f-993f-a01c64554ec0"
      },
      "execution_count": null,
      "outputs": [
        {
          "output_type": "stream",
          "name": "stdout",
          "text": [
            "Standard accuracy: 98.81 %\n"
          ]
        }
      ]
    },
    {
      "cell_type": "code",
      "source": [
        "#Evaluate Robust Accuracy\n",
        "model.eval()\n",
        "\n",
        "correct = 0\n",
        "total = 0\n",
        "\n",
        "atk = FGSM(model, eps=0.3)\n",
        "\n",
        "for images, labels in test_loader:\n",
        "    \n",
        "    images = atk(images, labels).cuda()\n",
        "    outputs = model(images)\n",
        "    \n",
        "    _, predicted = torch.max(outputs.data, 1)\n",
        "    \n",
        "    total += labels.size(0)\n",
        "    correct += (predicted == labels.cuda()).sum()\n",
        "    \n",
        "print('Robust accuracy: %.2f %%' % (100 * float(correct) / total))"
      ],
      "metadata": {
        "colab": {
          "base_uri": "https://localhost:8080/"
        },
        "id": "dpBLI3jCTmN7",
        "outputId": "d085e3f2-3382-462e-ba67-8ce66066251f"
      },
      "execution_count": null,
      "outputs": [
        {
          "output_type": "stream",
          "name": "stdout",
          "text": [
            "Robust accuracy: 92.20 %\n"
          ]
        }
      ]
    },
    {
      "cell_type": "code",
      "source": [
        "import tent\n",
        "model = tent.configure_model(model)\n",
        "params, param_names = tent.collect_params(model)\n",
        "tented_model = tent.Tent(model, optimizer)"
      ],
      "metadata": {
        "id": "mFWqukA0UkiE"
      },
      "execution_count": null,
      "outputs": []
    },
    {
      "cell_type": "code",
      "source": [
        "#Tenting forward passes and updates using test data-set\n",
        "for images, labels in test_loader:\n",
        "    images = images.cuda()\n",
        "    outputs = tented_model(images)"
      ],
      "metadata": {
        "id": "c0nAvAD8Vbhm"
      },
      "execution_count": null,
      "outputs": []
    },
    {
      "cell_type": "code",
      "source": [
        "#Accuracy after tenting\n",
        "tented_model.eval()\n",
        "correct = 0\n",
        "total = 0\n",
        "for images, labels in test_loader:\n",
        "    images=images.cuda()\n",
        "    outputs = tented_model(images)\n",
        "    _, predicted = torch.max(outputs.data, 1)\n",
        "    total += labels.size(0)\n",
        "    correct += (predicted == labels.cuda()).sum()\n",
        "print('Accuracy after Tenting: %.2f %%' % (100 * float(correct) / total))"
      ],
      "metadata": {
        "colab": {
          "base_uri": "https://localhost:8080/"
        },
        "id": "_m05GXMfVPZA",
        "outputId": "d23cff37-2d07-42c0-c948-9b7ff3ec2bd3"
      },
      "execution_count": null,
      "outputs": [
        {
          "output_type": "stream",
          "name": "stdout",
          "text": [
            "Robust accuracy: 98.79 %\n"
          ]
        }
      ]
    },
    {
      "cell_type": "code",
      "source": [
        ""
      ],
      "metadata": {
        "id": "tqcrWJHTwNdX"
      },
      "execution_count": null,
      "outputs": []
    }
  ]
}